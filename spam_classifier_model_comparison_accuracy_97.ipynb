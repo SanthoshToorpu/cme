{
  "cells": [
    {
      "cell_type": "markdown",
      "metadata": {
        "id": "view-in-github",
        "colab_type": "text"
      },
      "source": [
        "<a href=\"https://colab.research.google.com/github/SanthoshToorpu/cme/blob/main/spam_classifier_model_comparison_accuracy_97.ipynb\" target=\"_parent\"><img src=\"https://colab.research.google.com/assets/colab-badge.svg\" alt=\"Open In Colab\"/></a>"
      ]
    },
    {
      "cell_type": "markdown",
      "id": "arabic-rwanda",
      "metadata": {
        "papermill": {
          "duration": 0.014595,
          "end_time": "2021-08-10T15:54:40.793978",
          "exception": false,
          "start_time": "2021-08-10T15:54:40.779383",
          "status": "completed"
        },
        "tags": [],
        "id": "arabic-rwanda"
      },
      "source": [
        "# Spam Classifier - Model comparison (accuracy > 97%)\n",
        "\n",
        "![emails](https://i.imgur.com/5mT9Beb.png)\n",
        "\n",
        ""
      ]
    },
    {
      "cell_type": "markdown",
      "id": "stock-guidance",
      "metadata": {
        "papermill": {
          "duration": 0.013154,
          "end_time": "2021-08-10T15:54:40.821399",
          "exception": false,
          "start_time": "2021-08-10T15:54:40.808245",
          "status": "completed"
        },
        "tags": [],
        "id": "stock-guidance"
      },
      "source": [
        "# Table of contents\n",
        "\n",
        "[<h3>1. Loading, data explorating and preprocessing</h3>](#1)\n",
        "\n",
        "[<h3>2. Model comparison</h3>](#2)\n",
        "\n",
        "[<h3>3. Hyperparameter selection for MultinomialNB</h3>](#3)\n",
        "\n",
        "[<h3>4. The MultinomialNB Model</h3>](#4)\n",
        "\n",
        "[<h3>5. Example of predictions</h3>](#5)"
      ]
    },
    {
      "cell_type": "markdown",
      "id": "veterinary-number",
      "metadata": {
        "papermill": {
          "duration": 0.013127,
          "end_time": "2021-08-10T15:54:40.847958",
          "exception": false,
          "start_time": "2021-08-10T15:54:40.834831",
          "status": "completed"
        },
        "tags": [],
        "id": "veterinary-number"
      },
      "source": [
        "# 1. Loading, data explorating and preprocessing<a class=\"anchor\" id=\"1\"></a>"
      ]
    },
    {
      "cell_type": "code",
      "execution_count": 13,
      "id": "polar-talent",
      "metadata": {
        "_cell_guid": "b1076dfc-b9ad-4769-8c92-a6c4dae69d19",
        "_uuid": "8f2839f25d086af736a60e9eeb907d3b93b6e0e5",
        "execution": {
          "iopub.execute_input": "2021-08-10T15:54:40.882070Z",
          "iopub.status.busy": "2021-08-10T15:54:40.881306Z",
          "iopub.status.idle": "2021-08-10T15:54:42.590255Z",
          "shell.execute_reply": "2021-08-10T15:54:42.590688Z"
        },
        "papermill": {
          "duration": 1.72956,
          "end_time": "2021-08-10T15:54:42.590970",
          "exception": false,
          "start_time": "2021-08-10T15:54:40.861410",
          "status": "completed"
        },
        "tags": [],
        "id": "polar-talent"
      },
      "outputs": [],
      "source": [
        "import numpy as np\n",
        "import pandas as pd\n",
        "import matplotlib.pyplot as plt\n",
        "import seaborn as sns\n",
        "\n",
        "from sklearn.model_selection import train_test_split\n",
        "from sklearn.ensemble import RandomForestClassifier, GradientBoostingClassifier\n",
        "from xgboost import XGBClassifier\n",
        "from sklearn.naive_bayes import MultinomialNB\n",
        "from sklearn.linear_model import LogisticRegression\n",
        "from sklearn.neighbors import KNeighborsClassifier\n",
        "from sklearn.tree import DecisionTreeClassifier\n",
        "from sklearn.svm import LinearSVC, SVC\n",
        "from time import perf_counter\n",
        "import warnings\n",
        "warnings.filterwarnings(action='ignore')\n",
        "\n",
        "from IPython.display import Markdown, display\n",
        "def printmd(string):\n",
        "    # Print with Markdowns\n",
        "    display(Markdown(string))\n",
        "\n",
        "df = pd.read_csv('/content/spam_ham_dataset.csv')"
      ]
    },
    {
      "cell_type": "code",
      "execution_count": 35,
      "id": "integral-escape",
      "metadata": {
        "execution": {
          "iopub.execute_input": "2021-08-10T15:54:42.621884Z",
          "iopub.status.busy": "2021-08-10T15:54:42.621051Z",
          "iopub.status.idle": "2021-08-10T15:54:42.645885Z",
          "shell.execute_reply": "2021-08-10T15:54:42.646356Z"
        },
        "papermill": {
          "duration": 0.041659,
          "end_time": "2021-08-10T15:54:42.646522",
          "exception": false,
          "start_time": "2021-08-10T15:54:42.604863",
          "status": "completed"
        },
        "tags": [],
        "colab": {
          "base_uri": "https://localhost:8080/",
          "height": 9629
        },
        "id": "integral-escape",
        "outputId": "e1b46a37-3d19-4194-a235-40521a09ee95"
      },
      "outputs": [
        {
          "output_type": "execute_result",
          "data": {
            "text/plain": [
              "      Unnamed: 0 label                                               text  \\\n",
              "0            605   ham  Subject: enron methanol ; meter # : 988291\\r\\n...   \n",
              "1           2349   ham  Subject: hpl nom for january 9 , 2001\\r\\n( see...   \n",
              "2           3624   ham  Subject: neon retreat\\r\\nho ho ho , we ' re ar...   \n",
              "3           4685  spam  Subject: photoshop , windows , office . cheap ...   \n",
              "4           2030   ham  Subject: re : indian springs\\r\\nthis deal is t...   \n",
              "...          ...   ...                                                ...   \n",
              "5166        1518   ham  Subject: put the 10 on the ft\\r\\nthe transport...   \n",
              "5167         404   ham  Subject: 3 / 4 / 2000 and following noms\\r\\nhp...   \n",
              "5168        2933   ham  Subject: calpine daily gas nomination\\r\\n>\\r\\n...   \n",
              "5169        1409   ham  Subject: industrial worksheets for august 2000...   \n",
              "5170        4807  spam  Subject: important online banking alert\\r\\ndea...   \n",
              "\n",
              "      label_num                                         text_clean  \n",
              "0             0  subject enron methanol meter this is a follow ...  \n",
              "1             0  subject hpl nom for january see attached file ...  \n",
              "2             0  subject neon retreat ho ho ho we re around to ...  \n",
              "3             1  subject photoshop windows office cheap main tr...  \n",
              "4             0  subject re indian springs this deal is to book...  \n",
              "...         ...                                                ...  \n",
              "5166          0  subject put the on the ft the transport volume...  \n",
              "5167          0  subject and following noms hpl can t take the ...  \n",
              "5168          0  subject calpine daily gas nomination julie as ...  \n",
              "5169          0  subject industrial worksheets for august activ...  \n",
              "5170          1  subject important online banking alert dear va...  \n",
              "\n",
              "[5171 rows x 5 columns]"
            ],
            "text/html": [
              "\n",
              "  <div id=\"df-be155ff7-3141-4bab-8afe-c4bf472210ff\" class=\"colab-df-container\">\n",
              "    <div>\n",
              "<style scoped>\n",
              "    .dataframe tbody tr th:only-of-type {\n",
              "        vertical-align: middle;\n",
              "    }\n",
              "\n",
              "    .dataframe tbody tr th {\n",
              "        vertical-align: top;\n",
              "    }\n",
              "\n",
              "    .dataframe thead th {\n",
              "        text-align: right;\n",
              "    }\n",
              "</style>\n",
              "<table border=\"1\" class=\"dataframe\">\n",
              "  <thead>\n",
              "    <tr style=\"text-align: right;\">\n",
              "      <th></th>\n",
              "      <th>Unnamed: 0</th>\n",
              "      <th>label</th>\n",
              "      <th>text</th>\n",
              "      <th>label_num</th>\n",
              "      <th>text_clean</th>\n",
              "    </tr>\n",
              "  </thead>\n",
              "  <tbody>\n",
              "    <tr>\n",
              "      <th>0</th>\n",
              "      <td>605</td>\n",
              "      <td>ham</td>\n",
              "      <td>Subject: enron methanol ; meter # : 988291\\r\\n...</td>\n",
              "      <td>0</td>\n",
              "      <td>subject enron methanol meter this is a follow ...</td>\n",
              "    </tr>\n",
              "    <tr>\n",
              "      <th>1</th>\n",
              "      <td>2349</td>\n",
              "      <td>ham</td>\n",
              "      <td>Subject: hpl nom for january 9 , 2001\\r\\n( see...</td>\n",
              "      <td>0</td>\n",
              "      <td>subject hpl nom for january see attached file ...</td>\n",
              "    </tr>\n",
              "    <tr>\n",
              "      <th>2</th>\n",
              "      <td>3624</td>\n",
              "      <td>ham</td>\n",
              "      <td>Subject: neon retreat\\r\\nho ho ho , we ' re ar...</td>\n",
              "      <td>0</td>\n",
              "      <td>subject neon retreat ho ho ho we re around to ...</td>\n",
              "    </tr>\n",
              "    <tr>\n",
              "      <th>3</th>\n",
              "      <td>4685</td>\n",
              "      <td>spam</td>\n",
              "      <td>Subject: photoshop , windows , office . cheap ...</td>\n",
              "      <td>1</td>\n",
              "      <td>subject photoshop windows office cheap main tr...</td>\n",
              "    </tr>\n",
              "    <tr>\n",
              "      <th>4</th>\n",
              "      <td>2030</td>\n",
              "      <td>ham</td>\n",
              "      <td>Subject: re : indian springs\\r\\nthis deal is t...</td>\n",
              "      <td>0</td>\n",
              "      <td>subject re indian springs this deal is to book...</td>\n",
              "    </tr>\n",
              "    <tr>\n",
              "      <th>...</th>\n",
              "      <td>...</td>\n",
              "      <td>...</td>\n",
              "      <td>...</td>\n",
              "      <td>...</td>\n",
              "      <td>...</td>\n",
              "    </tr>\n",
              "    <tr>\n",
              "      <th>5166</th>\n",
              "      <td>1518</td>\n",
              "      <td>ham</td>\n",
              "      <td>Subject: put the 10 on the ft\\r\\nthe transport...</td>\n",
              "      <td>0</td>\n",
              "      <td>subject put the on the ft the transport volume...</td>\n",
              "    </tr>\n",
              "    <tr>\n",
              "      <th>5167</th>\n",
              "      <td>404</td>\n",
              "      <td>ham</td>\n",
              "      <td>Subject: 3 / 4 / 2000 and following noms\\r\\nhp...</td>\n",
              "      <td>0</td>\n",
              "      <td>subject and following noms hpl can t take the ...</td>\n",
              "    </tr>\n",
              "    <tr>\n",
              "      <th>5168</th>\n",
              "      <td>2933</td>\n",
              "      <td>ham</td>\n",
              "      <td>Subject: calpine daily gas nomination\\r\\n&gt;\\r\\n...</td>\n",
              "      <td>0</td>\n",
              "      <td>subject calpine daily gas nomination julie as ...</td>\n",
              "    </tr>\n",
              "    <tr>\n",
              "      <th>5169</th>\n",
              "      <td>1409</td>\n",
              "      <td>ham</td>\n",
              "      <td>Subject: industrial worksheets for august 2000...</td>\n",
              "      <td>0</td>\n",
              "      <td>subject industrial worksheets for august activ...</td>\n",
              "    </tr>\n",
              "    <tr>\n",
              "      <th>5170</th>\n",
              "      <td>4807</td>\n",
              "      <td>spam</td>\n",
              "      <td>Subject: important online banking alert\\r\\ndea...</td>\n",
              "      <td>1</td>\n",
              "      <td>subject important online banking alert dear va...</td>\n",
              "    </tr>\n",
              "  </tbody>\n",
              "</table>\n",
              "<p>5171 rows × 5 columns</p>\n",
              "</div>\n",
              "    <div class=\"colab-df-buttons\">\n",
              "\n",
              "  <div class=\"colab-df-container\">\n",
              "    <button class=\"colab-df-convert\" onclick=\"convertToInteractive('df-be155ff7-3141-4bab-8afe-c4bf472210ff')\"\n",
              "            title=\"Convert this dataframe to an interactive table.\"\n",
              "            style=\"display:none;\">\n",
              "\n",
              "  <svg xmlns=\"http://www.w3.org/2000/svg\" height=\"24px\" viewBox=\"0 -960 960 960\">\n",
              "    <path d=\"M120-120v-720h720v720H120Zm60-500h600v-160H180v160Zm220 220h160v-160H400v160Zm0 220h160v-160H400v160ZM180-400h160v-160H180v160Zm440 0h160v-160H620v160ZM180-180h160v-160H180v160Zm440 0h160v-160H620v160Z\"/>\n",
              "  </svg>\n",
              "    </button>\n",
              "\n",
              "  <style>\n",
              "    .colab-df-container {\n",
              "      display:flex;\n",
              "      gap: 12px;\n",
              "    }\n",
              "\n",
              "    .colab-df-convert {\n",
              "      background-color: #E8F0FE;\n",
              "      border: none;\n",
              "      border-radius: 50%;\n",
              "      cursor: pointer;\n",
              "      display: none;\n",
              "      fill: #1967D2;\n",
              "      height: 32px;\n",
              "      padding: 0 0 0 0;\n",
              "      width: 32px;\n",
              "    }\n",
              "\n",
              "    .colab-df-convert:hover {\n",
              "      background-color: #E2EBFA;\n",
              "      box-shadow: 0px 1px 2px rgba(60, 64, 67, 0.3), 0px 1px 3px 1px rgba(60, 64, 67, 0.15);\n",
              "      fill: #174EA6;\n",
              "    }\n",
              "\n",
              "    .colab-df-buttons div {\n",
              "      margin-bottom: 4px;\n",
              "    }\n",
              "\n",
              "    [theme=dark] .colab-df-convert {\n",
              "      background-color: #3B4455;\n",
              "      fill: #D2E3FC;\n",
              "    }\n",
              "\n",
              "    [theme=dark] .colab-df-convert:hover {\n",
              "      background-color: #434B5C;\n",
              "      box-shadow: 0px 1px 3px 1px rgba(0, 0, 0, 0.15);\n",
              "      filter: drop-shadow(0px 1px 2px rgba(0, 0, 0, 0.3));\n",
              "      fill: #FFFFFF;\n",
              "    }\n",
              "  </style>\n",
              "\n",
              "    <script>\n",
              "      const buttonEl =\n",
              "        document.querySelector('#df-be155ff7-3141-4bab-8afe-c4bf472210ff button.colab-df-convert');\n",
              "      buttonEl.style.display =\n",
              "        google.colab.kernel.accessAllowed ? 'block' : 'none';\n",
              "\n",
              "      async function convertToInteractive(key) {\n",
              "        const element = document.querySelector('#df-be155ff7-3141-4bab-8afe-c4bf472210ff');\n",
              "        const dataTable =\n",
              "          await google.colab.kernel.invokeFunction('convertToInteractive',\n",
              "                                                    [key], {});\n",
              "        if (!dataTable) return;\n",
              "\n",
              "        const docLinkHtml = 'Like what you see? Visit the ' +\n",
              "          '<a target=\"_blank\" href=https://colab.research.google.com/notebooks/data_table.ipynb>data table notebook</a>'\n",
              "          + ' to learn more about interactive tables.';\n",
              "        element.innerHTML = '';\n",
              "        dataTable['output_type'] = 'display_data';\n",
              "        await google.colab.output.renderOutput(dataTable, element);\n",
              "        const docLink = document.createElement('div');\n",
              "        docLink.innerHTML = docLinkHtml;\n",
              "        element.appendChild(docLink);\n",
              "      }\n",
              "    </script>\n",
              "  </div>\n",
              "\n",
              "\n",
              "<div id=\"df-2e4fb563-53a3-4b4e-9442-90b39152e37b\">\n",
              "  <button class=\"colab-df-quickchart\" onclick=\"quickchart('df-2e4fb563-53a3-4b4e-9442-90b39152e37b')\"\n",
              "            title=\"Suggest charts\"\n",
              "            style=\"display:none;\">\n",
              "\n",
              "<svg xmlns=\"http://www.w3.org/2000/svg\" height=\"24px\"viewBox=\"0 0 24 24\"\n",
              "     width=\"24px\">\n",
              "    <g>\n",
              "        <path d=\"M19 3H5c-1.1 0-2 .9-2 2v14c0 1.1.9 2 2 2h14c1.1 0 2-.9 2-2V5c0-1.1-.9-2-2-2zM9 17H7v-7h2v7zm4 0h-2V7h2v10zm4 0h-2v-4h2v4z\"/>\n",
              "    </g>\n",
              "</svg>\n",
              "  </button>\n",
              "\n",
              "<style>\n",
              "  .colab-df-quickchart {\n",
              "      --bg-color: #E8F0FE;\n",
              "      --fill-color: #1967D2;\n",
              "      --hover-bg-color: #E2EBFA;\n",
              "      --hover-fill-color: #174EA6;\n",
              "      --disabled-fill-color: #AAA;\n",
              "      --disabled-bg-color: #DDD;\n",
              "  }\n",
              "\n",
              "  [theme=dark] .colab-df-quickchart {\n",
              "      --bg-color: #3B4455;\n",
              "      --fill-color: #D2E3FC;\n",
              "      --hover-bg-color: #434B5C;\n",
              "      --hover-fill-color: #FFFFFF;\n",
              "      --disabled-bg-color: #3B4455;\n",
              "      --disabled-fill-color: #666;\n",
              "  }\n",
              "\n",
              "  .colab-df-quickchart {\n",
              "    background-color: var(--bg-color);\n",
              "    border: none;\n",
              "    border-radius: 50%;\n",
              "    cursor: pointer;\n",
              "    display: none;\n",
              "    fill: var(--fill-color);\n",
              "    height: 32px;\n",
              "    padding: 0;\n",
              "    width: 32px;\n",
              "  }\n",
              "\n",
              "  .colab-df-quickchart:hover {\n",
              "    background-color: var(--hover-bg-color);\n",
              "    box-shadow: 0 1px 2px rgba(60, 64, 67, 0.3), 0 1px 3px 1px rgba(60, 64, 67, 0.15);\n",
              "    fill: var(--button-hover-fill-color);\n",
              "  }\n",
              "\n",
              "  .colab-df-quickchart-complete:disabled,\n",
              "  .colab-df-quickchart-complete:disabled:hover {\n",
              "    background-color: var(--disabled-bg-color);\n",
              "    fill: var(--disabled-fill-color);\n",
              "    box-shadow: none;\n",
              "  }\n",
              "\n",
              "  .colab-df-spinner {\n",
              "    border: 2px solid var(--fill-color);\n",
              "    border-color: transparent;\n",
              "    border-bottom-color: var(--fill-color);\n",
              "    animation:\n",
              "      spin 1s steps(1) infinite;\n",
              "  }\n",
              "\n",
              "  @keyframes spin {\n",
              "    0% {\n",
              "      border-color: transparent;\n",
              "      border-bottom-color: var(--fill-color);\n",
              "      border-left-color: var(--fill-color);\n",
              "    }\n",
              "    20% {\n",
              "      border-color: transparent;\n",
              "      border-left-color: var(--fill-color);\n",
              "      border-top-color: var(--fill-color);\n",
              "    }\n",
              "    30% {\n",
              "      border-color: transparent;\n",
              "      border-left-color: var(--fill-color);\n",
              "      border-top-color: var(--fill-color);\n",
              "      border-right-color: var(--fill-color);\n",
              "    }\n",
              "    40% {\n",
              "      border-color: transparent;\n",
              "      border-right-color: var(--fill-color);\n",
              "      border-top-color: var(--fill-color);\n",
              "    }\n",
              "    60% {\n",
              "      border-color: transparent;\n",
              "      border-right-color: var(--fill-color);\n",
              "    }\n",
              "    80% {\n",
              "      border-color: transparent;\n",
              "      border-right-color: var(--fill-color);\n",
              "      border-bottom-color: var(--fill-color);\n",
              "    }\n",
              "    90% {\n",
              "      border-color: transparent;\n",
              "      border-bottom-color: var(--fill-color);\n",
              "    }\n",
              "  }\n",
              "</style>\n",
              "\n",
              "  <script>\n",
              "    async function quickchart(key) {\n",
              "      const quickchartButtonEl =\n",
              "        document.querySelector('#' + key + ' button');\n",
              "      quickchartButtonEl.disabled = true;  // To prevent multiple clicks.\n",
              "      quickchartButtonEl.classList.add('colab-df-spinner');\n",
              "      try {\n",
              "        const charts = await google.colab.kernel.invokeFunction(\n",
              "            'suggestCharts', [key], {});\n",
              "      } catch (error) {\n",
              "        console.error('Error during call to suggestCharts:', error);\n",
              "      }\n",
              "      quickchartButtonEl.classList.remove('colab-df-spinner');\n",
              "      quickchartButtonEl.classList.add('colab-df-quickchart-complete');\n",
              "    }\n",
              "    (() => {\n",
              "      let quickchartButtonEl =\n",
              "        document.querySelector('#df-2e4fb563-53a3-4b4e-9442-90b39152e37b button');\n",
              "      quickchartButtonEl.style.display =\n",
              "        google.colab.kernel.accessAllowed ? 'block' : 'none';\n",
              "    })();\n",
              "  </script>\n",
              "</div>\n",
              "    </div>\n",
              "  </div>\n"
            ]
          },
          "metadata": {},
          "execution_count": 35
        }
      ],
      "source": [
        "# Display the first rows\n",
        "df"
      ]
    },
    {
      "cell_type": "code",
      "execution_count": 15,
      "id": "matched-fields",
      "metadata": {
        "execution": {
          "iopub.execute_input": "2021-08-10T15:54:42.679887Z",
          "iopub.status.busy": "2021-08-10T15:54:42.679034Z",
          "iopub.status.idle": "2021-08-10T15:54:42.684553Z",
          "shell.execute_reply": "2021-08-10T15:54:42.683981Z"
        },
        "papermill": {
          "duration": 0.022254,
          "end_time": "2021-08-10T15:54:42.684679",
          "exception": false,
          "start_time": "2021-08-10T15:54:42.662425",
          "status": "completed"
        },
        "tags": [],
        "colab": {
          "base_uri": "https://localhost:8080/"
        },
        "id": "matched-fields",
        "outputId": "9c7d0c61-8556-428f-c701-35cc95628056"
      },
      "outputs": [
        {
          "output_type": "stream",
          "name": "stdout",
          "text": [
            "The dataset as a total of 5171 E-Mails, which are categorized is ham and spam\n"
          ]
        }
      ],
      "source": [
        "print(f'The dataset as a total of {df.shape[0]} E-Mails, which are categorized is ham and spam')"
      ]
    },
    {
      "cell_type": "code",
      "execution_count": 16,
      "id": "visible-silicon",
      "metadata": {
        "execution": {
          "iopub.execute_input": "2021-08-10T15:54:42.721272Z",
          "iopub.status.busy": "2021-08-10T15:54:42.720553Z",
          "iopub.status.idle": "2021-08-10T15:54:42.877910Z",
          "shell.execute_reply": "2021-08-10T15:54:42.877339Z"
        },
        "papermill": {
          "duration": 0.178874,
          "end_time": "2021-08-10T15:54:42.878067",
          "exception": false,
          "start_time": "2021-08-10T15:54:42.699193",
          "status": "completed"
        },
        "tags": [],
        "colab": {
          "base_uri": "https://localhost:8080/",
          "height": 476
        },
        "id": "visible-silicon",
        "outputId": "82f67de9-f36e-4b2c-a2f8-724051f0e765"
      },
      "outputs": [
        {
          "output_type": "display_data",
          "data": {
            "text/plain": [
              "<Figure size 640x480 with 1 Axes>"
            ],
            "image/png": "[encoded data removed]"
          },
          "metadata": {}
        }
      ],
      "source": [
        "df['label'].value_counts().plot.bar(color = [\"g\",\"r\"])\n",
        "plt.title('Total number of ham and spam in the dataset')\n",
        "plt.show()"
      ]
    },
    {
      "cell_type": "markdown",
      "id": "alternative-laugh",
      "metadata": {
        "papermill": {
          "duration": 0.014936,
          "end_time": "2021-08-10T15:54:42.908283",
          "exception": false,
          "start_time": "2021-08-10T15:54:42.893347",
          "status": "completed"
        },
        "tags": [],
        "id": "alternative-laugh"
      },
      "source": [
        "The raw E-Mails have a lot of characters beside of the ones of the alphabet, which might provoke issues later. Therefore, the E-Mails will be cleaned. Remember that it is a basic model, which won't take count of punctuation."
      ]
    },
    {
      "cell_type": "code",
      "execution_count": 17,
      "id": "southern-potter",
      "metadata": {
        "execution": {
          "iopub.execute_input": "2021-08-10T15:54:42.943773Z",
          "iopub.status.busy": "2021-08-10T15:54:42.943200Z",
          "iopub.status.idle": "2021-08-10T15:54:43.389528Z",
          "shell.execute_reply": "2021-08-10T15:54:43.388950Z"
        },
        "papermill": {
          "duration": 0.466176,
          "end_time": "2021-08-10T15:54:43.389663",
          "exception": false,
          "start_time": "2021-08-10T15:54:42.923487",
          "status": "completed"
        },
        "tags": [],
        "colab": {
          "base_uri": "https://localhost:8080/",
          "height": 88
        },
        "id": "southern-potter",
        "outputId": "99613140-4a04-43fb-ff53-cca6f26c3455"
      },
      "outputs": [
        {
          "output_type": "stream",
          "name": "stdout",
          "text": [
            "Before cleaning:\n"
          ]
        },
        {
          "output_type": "execute_result",
          "data": {
            "text/plain": [
              "\"Subject: enron methanol ; meter # : 988291\\r\\nthis is a follow up to the note i gave you on monday , 4 / 3 / 00 { preliminary\\r\\nflow data provided by daren } .\\r\\nplease override pop ' s daily volume { presently zero } to reflect daily\\r\\nactivity you can obtain from gas control .\\r\\nthis change is needed asap for economics purposes .\""
            ],
            "application/vnd.google.colaboratory.intrinsic+json": {
              "type": "string"
            }
          },
          "metadata": {},
          "execution_count": 17
        }
      ],
      "source": [
        "from nltk.tokenize import RegexpTokenizer\n",
        "\n",
        "def clean_str(string, reg = RegexpTokenizer(r'[a-z]+')):\n",
        "    # Clean a string with RegexpTokenizer\n",
        "    string = string.lower()\n",
        "    tokens = reg.tokenize(string)\n",
        "    return \" \".join(tokens)\n",
        "\n",
        "print('Before cleaning:')\n",
        "df['text'][0]\n",
        "\n"
      ]
    },
    {
      "cell_type": "code",
      "execution_count": 18,
      "id": "considered-murder",
      "metadata": {
        "execution": {
          "iopub.execute_input": "2021-08-10T15:54:43.438124Z",
          "iopub.status.busy": "2021-08-10T15:54:43.437476Z",
          "iopub.status.idle": "2021-08-10T15:54:43.442506Z",
          "shell.execute_reply": "2021-08-10T15:54:43.441873Z"
        },
        "papermill": {
          "duration": 0.030672,
          "end_time": "2021-08-10T15:54:43.442645",
          "exception": false,
          "start_time": "2021-08-10T15:54:43.411973",
          "status": "completed"
        },
        "tags": [],
        "colab": {
          "base_uri": "https://localhost:8080/",
          "height": 70
        },
        "id": "considered-murder",
        "outputId": "ac21f654-4e4a-4a36-8d79-3d6ae42f666a"
      },
      "outputs": [
        {
          "output_type": "stream",
          "name": "stdout",
          "text": [
            "After cleaning:\n"
          ]
        },
        {
          "output_type": "execute_result",
          "data": {
            "text/plain": [
              "'subject enron methanol meter this is a follow up to the note i gave you on monday preliminary flow data provided by daren please override pop s daily volume presently zero to reflect daily activity you can obtain from gas control this change is needed asap for economics purposes'"
            ],
            "application/vnd.google.colaboratory.intrinsic+json": {
              "type": "string"
            }
          },
          "metadata": {},
          "execution_count": 18
        }
      ],
      "source": [
        "print('After cleaning:')\n",
        "clean_str(df['text'][0])"
      ]
    },
    {
      "cell_type": "code",
      "execution_count": 19,
      "id": "destroyed-serve",
      "metadata": {
        "execution": {
          "iopub.execute_input": "2021-08-10T15:54:43.508686Z",
          "iopub.status.busy": "2021-08-10T15:54:43.503567Z",
          "iopub.status.idle": "2021-08-10T15:54:43.722866Z",
          "shell.execute_reply": "2021-08-10T15:54:43.722428Z"
        },
        "papermill": {
          "duration": 0.262096,
          "end_time": "2021-08-10T15:54:43.722998",
          "exception": false,
          "start_time": "2021-08-10T15:54:43.460902",
          "status": "completed"
        },
        "tags": [],
        "colab": {
          "base_uri": "https://localhost:8080/",
          "height": 206
        },
        "id": "destroyed-serve",
        "outputId": "308f38e4-012f-4b2c-99d4-e90c220fc5ac"
      },
      "outputs": [
        {
          "output_type": "execute_result",
          "data": {
            "text/plain": [
              "   Unnamed: 0 label                                               text  \\\n",
              "0         605   ham  Subject: enron methanol ; meter # : 988291\\r\\n...   \n",
              "1        2349   ham  Subject: hpl nom for january 9 , 2001\\r\\n( see...   \n",
              "2        3624   ham  Subject: neon retreat\\r\\nho ho ho , we ' re ar...   \n",
              "3        4685  spam  Subject: photoshop , windows , office . cheap ...   \n",
              "4        2030   ham  Subject: re : indian springs\\r\\nthis deal is t...   \n",
              "\n",
              "   label_num                                         text_clean  \n",
              "0          0  subject enron methanol meter this is a follow ...  \n",
              "1          0  subject hpl nom for january see attached file ...  \n",
              "2          0  subject neon retreat ho ho ho we re around to ...  \n",
              "3          1  subject photoshop windows office cheap main tr...  \n",
              "4          0  subject re indian springs this deal is to book...  "
            ],
            "text/html": [
              "\n",
              "  <div id=\"df-9df66a3f-ad70-468d-83b5-7891daf0af48\" class=\"colab-df-container\">\n",
              "    <div>\n",
              "<style scoped>\n",
              "    .dataframe tbody tr th:only-of-type {\n",
              "        vertical-align: middle;\n",
              "    }\n",
              "\n",
              "    .dataframe tbody tr th {\n",
              "        vertical-align: top;\n",
              "    }\n",
              "\n",
              "    .dataframe thead th {\n",
              "        text-align: right;\n",
              "    }\n",
              "</style>\n",
              "<table border=\"1\" class=\"dataframe\">\n",
              "  <thead>\n",
              "    <tr style=\"text-align: right;\">\n",
              "      <th></th>\n",
              "      <th>Unnamed: 0</th>\n",
              "      <th>label</th>\n",
              "      <th>text</th>\n",
              "      <th>label_num</th>\n",
              "      <th>text_clean</th>\n",
              "    </tr>\n",
              "  </thead>\n",
              "  <tbody>\n",
              "    <tr>\n",
              "      <th>0</th>\n",
              "      <td>605</td>\n",
              "      <td>ham</td>\n",
              "      <td>Subject: enron methanol ; meter # : 988291\\r\\n...</td>\n",
              "      <td>0</td>\n",
              "      <td>subject enron methanol meter this is a follow ...</td>\n",
              "    </tr>\n",
              "    <tr>\n",
              "      <th>1</th>\n",
              "      <td>2349</td>\n",
              "      <td>ham</td>\n",
              "      <td>Subject: hpl nom for january 9 , 2001\\r\\n( see...</td>\n",
              "      <td>0</td>\n",
              "      <td>subject hpl nom for january see attached file ...</td>\n",
              "    </tr>\n",
              "    <tr>\n",
              "      <th>2</th>\n",
              "      <td>3624</td>\n",
              "      <td>ham</td>\n",
              "      <td>Subject: neon retreat\\r\\nho ho ho , we ' re ar...</td>\n",
              "      <td>0</td>\n",
              "      <td>subject neon retreat ho ho ho we re around to ...</td>\n",
              "    </tr>\n",
              "    <tr>\n",
              "      <th>3</th>\n",
              "      <td>4685</td>\n",
              "      <td>spam</td>\n",
              "      <td>Subject: photoshop , windows , office . cheap ...</td>\n",
              "      <td>1</td>\n",
              "      <td>subject photoshop windows office cheap main tr...</td>\n",
              "    </tr>\n",
              "    <tr>\n",
              "      <th>4</th>\n",
              "      <td>2030</td>\n",
              "      <td>ham</td>\n",
              "      <td>Subject: re : indian springs\\r\\nthis deal is t...</td>\n",
              "      <td>0</td>\n",
              "      <td>subject re indian springs this deal is to book...</td>\n",
              "    </tr>\n",
              "  </tbody>\n",
              "</table>\n",
              "</div>\n",
              "    <div class=\"colab-df-buttons\">\n",
              "\n",
              "  <div class=\"colab-df-container\">\n",
              "    <button class=\"colab-df-convert\" onclick=\"convertToInteractive('df-9df66a3f-ad70-468d-83b5-7891daf0af48')\"\n",
              "            title=\"Convert this dataframe to an interactive table.\"\n",
              "            style=\"display:none;\">\n",
              "\n",
              "  <svg xmlns=\"http://www.w3.org/2000/svg\" height=\"24px\" viewBox=\"0 -960 960 960\">\n",
              "    <path d=\"M120-120v-720h720v720H120Zm60-500h600v-160H180v160Zm220 220h160v-160H400v160Zm0 220h160v-160H400v160ZM180-400h160v-160H180v160Zm440 0h160v-160H620v160ZM180-180h160v-160H180v160Zm440 0h160v-160H620v160Z\"/>\n",
              "  </svg>\n",
              "    </button>\n",
              "\n",
              "  <style>\n",
              "    .colab-df-container {\n",
              "      display:flex;\n",
              "      gap: 12px;\n",
              "    }\n",
              "\n",
              "    .colab-df-convert {\n",
              "      background-color: #E8F0FE;\n",
              "      border: none;\n",
              "      border-radius: 50%;\n",
              "      cursor: pointer;\n",
              "      display: none;\n",
              "      fill: #1967D2;\n",
              "      height: 32px;\n",
              "      padding: 0 0 0 0;\n",
              "      width: 32px;\n",
              "    }\n",
              "\n",
              "    .colab-df-convert:hover {\n",
              "      background-color: #E2EBFA;\n",
              "      box-shadow: 0px 1px 2px rgba(60, 64, 67, 0.3), 0px 1px 3px 1px rgba(60, 64, 67, 0.15);\n",
              "      fill: #174EA6;\n",
              "    }\n",
              "\n",
              "    .colab-df-buttons div {\n",
              "      margin-bottom: 4px;\n",
              "    }\n",
              "\n",
              "    [theme=dark] .colab-df-convert {\n",
              "      background-color: #3B4455;\n",
              "      fill: #D2E3FC;\n",
              "    }\n",
              "\n",
              "    [theme=dark] .colab-df-convert:hover {\n",
              "      background-color: #434B5C;\n",
              "      box-shadow: 0px 1px 3px 1px rgba(0, 0, 0, 0.15);\n",
              "      filter: drop-shadow(0px 1px 2px rgba(0, 0, 0, 0.3));\n",
              "      fill: #FFFFFF;\n",
              "    }\n",
              "  </style>\n",
              "\n",
              "    <script>\n",
              "      const buttonEl =\n",
              "        document.querySelector('#df-9df66a3f-ad70-468d-83b5-7891daf0af48 button.colab-df-convert');\n",
              "      buttonEl.style.display =\n",
              "        google.colab.kernel.accessAllowed ? 'block' : 'none';\n",
              "\n",
              "      async function convertToInteractive(key) {\n",
              "        const element = document.querySelector('#df-9df66a3f-ad70-468d-83b5-7891daf0af48');\n",
              "        const dataTable =\n",
              "          await google.colab.kernel.invokeFunction('convertToInteractive',\n",
              "                                                    [key], {});\n",
              "        if (!dataTable) return;\n",
              "\n",
              "        const docLinkHtml = 'Like what you see? Visit the ' +\n",
              "          '<a target=\"_blank\" href=https://colab.research.google.com/notebooks/data_table.ipynb>data table notebook</a>'\n",
              "          + ' to learn more about interactive tables.';\n",
              "        element.innerHTML = '';\n",
              "        dataTable['output_type'] = 'display_data';\n",
              "        await google.colab.output.renderOutput(dataTable, element);\n",
              "        const docLink = document.createElement('div');\n",
              "        docLink.innerHTML = docLinkHtml;\n",
              "        element.appendChild(docLink);\n",
              "      }\n",
              "    </script>\n",
              "  </div>\n",
              "\n",
              "\n",
              "<div id=\"df-8b5eb328-1a57-4151-bbe6-33af973f3111\">\n",
              "  <button class=\"colab-df-quickchart\" onclick=\"quickchart('df-8b5eb328-1a57-4151-bbe6-33af973f3111')\"\n",
              "            title=\"Suggest charts\"\n",
              "            style=\"display:none;\">\n",
              "\n",
              "<svg xmlns=\"http://www.w3.org/2000/svg\" height=\"24px\"viewBox=\"0 0 24 24\"\n",
              "     width=\"24px\">\n",
              "    <g>\n",
              "        <path d=\"M19 3H5c-1.1 0-2 .9-2 2v14c0 1.1.9 2 2 2h14c1.1 0 2-.9 2-2V5c0-1.1-.9-2-2-2zM9 17H7v-7h2v7zm4 0h-2V7h2v10zm4 0h-2v-4h2v4z\"/>\n",
              "    </g>\n",
              "</svg>\n",
              "  </button>\n",
              "\n",
              "<style>\n",
              "  .colab-df-quickchart {\n",
              "      --bg-color: #E8F0FE;\n",
              "      --fill-color: #1967D2;\n",
              "      --hover-bg-color: #E2EBFA;\n",
              "      --hover-fill-color: #174EA6;\n",
              "      --disabled-fill-color: #AAA;\n",
              "      --disabled-bg-color: #DDD;\n",
              "  }\n",
              "\n",
              "  [theme=dark] .colab-df-quickchart {\n",
              "      --bg-color: #3B4455;\n",
              "      --fill-color: #D2E3FC;\n",
              "      --hover-bg-color: #434B5C;\n",
              "      --hover-fill-color: #FFFFFF;\n",
              "      --disabled-bg-color: #3B4455;\n",
              "      --disabled-fill-color: #666;\n",
              "  }\n",
              "\n",
              "  .colab-df-quickchart {\n",
              "    background-color: var(--bg-color);\n",
              "    border: none;\n",
              "    border-radius: 50%;\n",
              "    cursor: pointer;\n",
              "    display: none;\n",
              "    fill: var(--fill-color);\n",
              "    height: 32px;\n",
              "    padding: 0;\n",
              "    width: 32px;\n",
              "  }\n",
              "\n",
              "  .colab-df-quickchart:hover {\n",
              "    background-color: var(--hover-bg-color);\n",
              "    box-shadow: 0 1px 2px rgba(60, 64, 67, 0.3), 0 1px 3px 1px rgba(60, 64, 67, 0.15);\n",
              "    fill: var(--button-hover-fill-color);\n",
              "  }\n",
              "\n",
              "  .colab-df-quickchart-complete:disabled,\n",
              "  .colab-df-quickchart-complete:disabled:hover {\n",
              "    background-color: var(--disabled-bg-color);\n",
              "    fill: var(--disabled-fill-color);\n",
              "    box-shadow: none;\n",
              "  }\n",
              "\n",
              "  .colab-df-spinner {\n",
              "    border: 2px solid var(--fill-color);\n",
              "    border-color: transparent;\n",
              "    border-bottom-color: var(--fill-color);\n",
              "    animation:\n",
              "      spin 1s steps(1) infinite;\n",
              "  }\n",
              "\n",
              "  @keyframes spin {\n",
              "    0% {\n",
              "      border-color: transparent;\n",
              "      border-bottom-color: var(--fill-color);\n",
              "      border-left-color: var(--fill-color);\n",
              "    }\n",
              "    20% {\n",
              "      border-color: transparent;\n",
              "      border-left-color: var(--fill-color);\n",
              "      border-top-color: var(--fill-color);\n",
              "    }\n",
              "    30% {\n",
              "      border-color: transparent;\n",
              "      border-left-color: var(--fill-color);\n",
              "      border-top-color: var(--fill-color);\n",
              "      border-right-color: var(--fill-color);\n",
              "    }\n",
              "    40% {\n",
              "      border-color: transparent;\n",
              "      border-right-color: var(--fill-color);\n",
              "      border-top-color: var(--fill-color);\n",
              "    }\n",
              "    60% {\n",
              "      border-color: transparent;\n",
              "      border-right-color: var(--fill-color);\n",
              "    }\n",
              "    80% {\n",
              "      border-color: transparent;\n",
              "      border-right-color: var(--fill-color);\n",
              "      border-bottom-color: var(--fill-color);\n",
              "    }\n",
              "    90% {\n",
              "      border-color: transparent;\n",
              "      border-bottom-color: var(--fill-color);\n",
              "    }\n",
              "  }\n",
              "</style>\n",
              "\n",
              "  <script>\n",
              "    async function quickchart(key) {\n",
              "      const quickchartButtonEl =\n",
              "        document.querySelector('#' + key + ' button');\n",
              "      quickchartButtonEl.disabled = true;  // To prevent multiple clicks.\n",
              "      quickchartButtonEl.classList.add('colab-df-spinner');\n",
              "      try {\n",
              "        const charts = await google.colab.kernel.invokeFunction(\n",
              "            'suggestCharts', [key], {});\n",
              "      } catch (error) {\n",
              "        console.error('Error during call to suggestCharts:', error);\n",
              "      }\n",
              "      quickchartButtonEl.classList.remove('colab-df-spinner');\n",
              "      quickchartButtonEl.classList.add('colab-df-quickchart-complete');\n",
              "    }\n",
              "    (() => {\n",
              "      let quickchartButtonEl =\n",
              "        document.querySelector('#df-8b5eb328-1a57-4151-bbe6-33af973f3111 button');\n",
              "      quickchartButtonEl.style.display =\n",
              "        google.colab.kernel.accessAllowed ? 'block' : 'none';\n",
              "    })();\n",
              "  </script>\n",
              "</div>\n",
              "    </div>\n",
              "  </div>\n"
            ]
          },
          "metadata": {},
          "execution_count": 19
        }
      ],
      "source": [
        "# Create a new column with the cleaned messages\n",
        "df['text_clean'] = df['text'].apply(lambda string: clean_str(string))\n",
        "\n",
        "# Display the result\n",
        "df.head()"
      ]
    },
    {
      "cell_type": "code",
      "execution_count": 20,
      "id": "rough-landscape",
      "metadata": {
        "execution": {
          "iopub.execute_input": "2021-08-10T15:54:43.801407Z",
          "iopub.status.busy": "2021-08-10T15:54:43.796432Z",
          "iopub.status.idle": "2021-08-10T15:54:44.556254Z",
          "shell.execute_reply": "2021-08-10T15:54:44.555561Z"
        },
        "papermill": {
          "duration": 0.816623,
          "end_time": "2021-08-10T15:54:44.556402",
          "exception": false,
          "start_time": "2021-08-10T15:54:43.739779",
          "status": "completed"
        },
        "tags": [],
        "id": "rough-landscape"
      },
      "outputs": [],
      "source": [
        "# Convert a collection of text documents to a matrix of token counts\n",
        "from sklearn.feature_extraction.text import CountVectorizer\n",
        "cv = CountVectorizer()\n",
        "X = cv.fit_transform(df.text_clean)\n",
        "\n",
        "# Get the categories\n",
        "y = df.label"
      ]
    },
    {
      "cell_type": "code",
      "source": [
        "X"
      ],
      "metadata": {
        "colab": {
          "base_uri": "https://localhost:8080/"
        },
        "id": "Wen2XBVsL6Lc",
        "outputId": "360ce58d-f8f2-48b9-f21e-866bdb572be0"
      },
      "id": "Wen2XBVsL6Lc",
      "execution_count": 37,
      "outputs": [
        {
          "output_type": "execute_result",
          "data": {
            "text/plain": [
              "<5171x45742 sparse matrix of type '<class 'numpy.int64'>'\n",
              "\twith 416985 stored elements in Compressed Sparse Row format>"
            ]
          },
          "metadata": {},
          "execution_count": 37
        }
      ]
    },
    {
      "cell_type": "code",
      "source": [
        "print(y)"
      ],
      "metadata": {
        "colab": {
          "base_uri": "https://localhost:8080/"
        },
        "id": "1glRi0PrI7Qh",
        "outputId": "9db68b0e-8426-4d60-add9-1b70a0fd301f"
      },
      "id": "1glRi0PrI7Qh",
      "execution_count": 21,
      "outputs": [
        {
          "output_type": "stream",
          "name": "stdout",
          "text": [
            "0        ham\n",
            "1        ham\n",
            "2        ham\n",
            "3       spam\n",
            "4        ham\n",
            "        ... \n",
            "5166     ham\n",
            "5167     ham\n",
            "5168     ham\n",
            "5169     ham\n",
            "5170    spam\n",
            "Name: label, Length: 5171, dtype: object\n"
          ]
        }
      ]
    },
    {
      "cell_type": "code",
      "execution_count": 22,
      "id": "nasty-framing",
      "metadata": {
        "execution": {
          "iopub.execute_input": "2021-08-10T15:54:44.595989Z",
          "iopub.status.busy": "2021-08-10T15:54:44.595444Z",
          "iopub.status.idle": "2021-08-10T15:54:44.602281Z",
          "shell.execute_reply": "2021-08-10T15:54:44.602693Z"
        },
        "papermill": {
          "duration": 0.028866,
          "end_time": "2021-08-10T15:54:44.602856",
          "exception": false,
          "start_time": "2021-08-10T15:54:44.573990",
          "status": "completed"
        },
        "tags": [],
        "id": "nasty-framing"
      },
      "outputs": [],
      "source": [
        "# Split arrays or matrices into random train and test subsets\n",
        "X_train, X_test, y_train, y_test = train_test_split(X, y, test_size=0.2, random_state=0)"
      ]
    },
    {
      "cell_type": "code",
      "source": [
        "X_train"
      ],
      "metadata": {
        "colab": {
          "base_uri": "https://localhost:8080/"
        },
        "id": "zqAMyqoGI544",
        "outputId": "bcfc47f0-6137-42a8-9cbe-b0d3078ea272"
      },
      "id": "zqAMyqoGI544",
      "execution_count": 38,
      "outputs": [
        {
          "output_type": "execute_result",
          "data": {
            "text/plain": [
              "<4136x45742 sparse matrix of type '<class 'numpy.int64'>'\n",
              "\twith 332414 stored elements in Compressed Sparse Row format>"
            ]
          },
          "metadata": {},
          "execution_count": 38
        }
      ]
    },
    {
      "cell_type": "markdown",
      "id": "wanted-glass",
      "metadata": {
        "papermill": {
          "duration": 0.016905,
          "end_time": "2021-08-10T15:54:44.636865",
          "exception": false,
          "start_time": "2021-08-10T15:54:44.619960",
          "status": "completed"
        },
        "tags": [],
        "id": "wanted-glass"
      },
      "source": [
        "# 2. Model comparison<a class=\"anchor\" id=\"2\"></a>"
      ]
    },
    {
      "cell_type": "code",
      "execution_count": 25,
      "id": "dress-ghana",
      "metadata": {
        "execution": {
          "iopub.execute_input": "2021-08-10T15:54:44.674550Z",
          "iopub.status.busy": "2021-08-10T15:54:44.673661Z",
          "iopub.status.idle": "2021-08-10T15:55:19.616570Z",
          "shell.execute_reply": "2021-08-10T15:55:19.617029Z"
        },
        "papermill": {
          "duration": 34.963337,
          "end_time": "2021-08-10T15:55:19.617196",
          "exception": false,
          "start_time": "2021-08-10T15:54:44.653859",
          "status": "completed"
        },
        "tags": [],
        "colab": {
          "base_uri": "https://localhost:8080/"
        },
        "id": "dress-ghana",
        "outputId": "07ba97d2-537c-45d0-96b6-4ce047028637"
      },
      "outputs": [
        {
          "output_type": "stream",
          "name": "stdout",
          "text": [
            "Random Forest        trained in 14.96 sec\n",
            "Gradient Boosting    trained in 30.4 sec\n",
            "MultinomialNB        trained in 0.02 sec\n",
            "Logistic Regr.       trained in 1.9 sec\n",
            "KNN                  trained in 0.02 sec\n",
            "Decision Tree        trained in 1.37 sec\n",
            "SVM (Linear)         trained in 0.32 sec\n",
            "SVM (RBF)            trained in 5.64 sec\n"
          ]
        }
      ],
      "source": [
        "models = {\n",
        "    \"Random Forest\": {\"model\":RandomForestClassifier(), \"perf\":0},\n",
        "    \"Gradient Boosting\": {\"model\":GradientBoostingClassifier(), \"perf\":0},\n",
        "    # \"XGBoost\": {\"model\":XGBClassifier(eval_metric='mlogloss'), \"perf\":0},\n",
        "    \"MultinomialNB\": {\"model\":MultinomialNB(), \"perf\":0},\n",
        "    \"Logistic Regr.\": {\"model\":LogisticRegression(), \"perf\":0},\n",
        "    \"KNN\": {\"model\":KNeighborsClassifier(), \"perf\":0},\n",
        "    \"Decision Tree\": {\"model\":DecisionTreeClassifier(), \"perf\":0},\n",
        "    \"SVM (Linear)\": {\"model\":LinearSVC(), \"perf\":0},\n",
        "    \"SVM (RBF)\": {\"model\":SVC(), \"perf\":0}\n",
        "}\n",
        "\n",
        "for name, model in models.items():\n",
        "    start = perf_counter()\n",
        "    model['model'].fit(X_train, y_train)\n",
        "    duration = perf_counter() - start\n",
        "    duration = round(duration,2)\n",
        "    model[\"perf\"] = duration\n",
        "    print(f\"{name:20} trained in {duration} sec\")"
      ]
    },
    {
      "cell_type": "code",
      "execution_count": 26,
      "id": "increasing-shower",
      "metadata": {
        "execution": {
          "iopub.execute_input": "2021-08-10T15:55:19.658610Z",
          "iopub.status.busy": "2021-08-10T15:55:19.657750Z",
          "iopub.status.idle": "2021-08-10T15:55:21.471846Z",
          "shell.execute_reply": "2021-08-10T15:55:21.472310Z"
        },
        "papermill": {
          "duration": 1.837152,
          "end_time": "2021-08-10T15:55:21.472488",
          "exception": false,
          "start_time": "2021-08-10T15:55:19.635336",
          "status": "completed"
        },
        "tags": [],
        "id": "increasing-shower"
      },
      "outputs": [],
      "source": [
        "models_acc = []\n",
        "for name, model in models.items():\n",
        "    models_acc.append([name, model[\"model\"].score(X_test, y_test),model[\"perf\"]])"
      ]
    },
    {
      "cell_type": "code",
      "execution_count": 27,
      "id": "progressive-drive",
      "metadata": {
        "execution": {
          "iopub.execute_input": "2021-08-10T15:55:21.522729Z",
          "iopub.status.busy": "2021-08-10T15:55:21.522138Z",
          "iopub.status.idle": "2021-08-10T15:55:21.524906Z",
          "shell.execute_reply": "2021-08-10T15:55:21.525347Z"
        },
        "papermill": {
          "duration": 0.033941,
          "end_time": "2021-08-10T15:55:21.525504",
          "exception": false,
          "start_time": "2021-08-10T15:55:21.491563",
          "status": "completed"
        },
        "tags": [],
        "colab": {
          "base_uri": "https://localhost:8080/",
          "height": 300
        },
        "id": "progressive-drive",
        "outputId": "ad1a7404-afee-47f2-e38e-b359ee85ed59"
      },
      "outputs": [
        {
          "output_type": "execute_result",
          "data": {
            "text/plain": [
              "               Model  Accuracy w/o scaling  Training time (sec)\n",
              "0     Logistic Regr.              0.973913                 1.90\n",
              "1      MultinomialNB              0.971981                 0.02\n",
              "2      Random Forest              0.970048                14.96\n",
              "3       SVM (Linear)              0.964251                 0.32\n",
              "4  Gradient Boosting              0.960386                30.40\n",
              "5      Decision Tree              0.960386                 1.37\n",
              "6          SVM (RBF)              0.957488                 5.64\n",
              "7                KNN              0.871498                 0.02"
            ],
            "text/html": [
              "\n",
              "  <div id=\"df-1b193966-99dd-41db-8dba-19c0f4727074\" class=\"colab-df-container\">\n",
              "    <div>\n",
              "<style scoped>\n",
              "    .dataframe tbody tr th:only-of-type {\n",
              "        vertical-align: middle;\n",
              "    }\n",
              "\n",
              "    .dataframe tbody tr th {\n",
              "        vertical-align: top;\n",
              "    }\n",
              "\n",
              "    .dataframe thead th {\n",
              "        text-align: right;\n",
              "    }\n",
              "</style>\n",
              "<table border=\"1\" class=\"dataframe\">\n",
              "  <thead>\n",
              "    <tr style=\"text-align: right;\">\n",
              "      <th></th>\n",
              "      <th>Model</th>\n",
              "      <th>Accuracy w/o scaling</th>\n",
              "      <th>Training time (sec)</th>\n",
              "    </tr>\n",
              "  </thead>\n",
              "  <tbody>\n",
              "    <tr>\n",
              "      <th>0</th>\n",
              "      <td>Logistic Regr.</td>\n",
              "      <td>0.973913</td>\n",
              "      <td>1.90</td>\n",
              "    </tr>\n",
              "    <tr>\n",
              "      <th>1</th>\n",
              "      <td>MultinomialNB</td>\n",
              "      <td>0.971981</td>\n",
              "      <td>0.02</td>\n",
              "    </tr>\n",
              "    <tr>\n",
              "      <th>2</th>\n",
              "      <td>Random Forest</td>\n",
              "      <td>0.970048</td>\n",
              "      <td>14.96</td>\n",
              "    </tr>\n",
              "    <tr>\n",
              "      <th>3</th>\n",
              "      <td>SVM (Linear)</td>\n",
              "      <td>0.964251</td>\n",
              "      <td>0.32</td>\n",
              "    </tr>\n",
              "    <tr>\n",
              "      <th>4</th>\n",
              "      <td>Gradient Boosting</td>\n",
              "      <td>0.960386</td>\n",
              "      <td>30.40</td>\n",
              "    </tr>\n",
              "    <tr>\n",
              "      <th>5</th>\n",
              "      <td>Decision Tree</td>\n",
              "      <td>0.960386</td>\n",
              "      <td>1.37</td>\n",
              "    </tr>\n",
              "    <tr>\n",
              "      <th>6</th>\n",
              "      <td>SVM (RBF)</td>\n",
              "      <td>0.957488</td>\n",
              "      <td>5.64</td>\n",
              "    </tr>\n",
              "    <tr>\n",
              "      <th>7</th>\n",
              "      <td>KNN</td>\n",
              "      <td>0.871498</td>\n",
              "      <td>0.02</td>\n",
              "    </tr>\n",
              "  </tbody>\n",
              "</table>\n",
              "</div>\n",
              "    <div class=\"colab-df-buttons\">\n",
              "\n",
              "  <div class=\"colab-df-container\">\n",
              "    <button class=\"colab-df-convert\" onclick=\"convertToInteractive('df-1b193966-99dd-41db-8dba-19c0f4727074')\"\n",
              "            title=\"Convert this dataframe to an interactive table.\"\n",
              "            style=\"display:none;\">\n",
              "\n",
              "  <svg xmlns=\"http://www.w3.org/2000/svg\" height=\"24px\" viewBox=\"0 -960 960 960\">\n",
              "    <path d=\"M120-120v-720h720v720H120Zm60-500h600v-160H180v160Zm220 220h160v-160H400v160Zm0 220h160v-160H400v160ZM180-400h160v-160H180v160Zm440 0h160v-160H620v160ZM180-180h160v-160H180v160Zm440 0h160v-160H620v160Z\"/>\n",
              "  </svg>\n",
              "    </button>\n",
              "\n",
              "  <style>\n",
              "    .colab-df-container {\n",
              "      display:flex;\n",
              "      gap: 12px;\n",
              "    }\n",
              "\n",
              "    .colab-df-convert {\n",
              "      background-color: #E8F0FE;\n",
              "      border: none;\n",
              "      border-radius: 50%;\n",
              "      cursor: pointer;\n",
              "      display: none;\n",
              "      fill: #1967D2;\n",
              "      height: 32px;\n",
              "      padding: 0 0 0 0;\n",
              "      width: 32px;\n",
              "    }\n",
              "\n",
              "    .colab-df-convert:hover {\n",
              "      background-color: #E2EBFA;\n",
              "      box-shadow: 0px 1px 2px rgba(60, 64, 67, 0.3), 0px 1px 3px 1px rgba(60, 64, 67, 0.15);\n",
              "      fill: #174EA6;\n",
              "    }\n",
              "\n",
              "    .colab-df-buttons div {\n",
              "      margin-bottom: 4px;\n",
              "    }\n",
              "\n",
              "    [theme=dark] .colab-df-convert {\n",
              "      background-color: #3B4455;\n",
              "      fill: #D2E3FC;\n",
              "    }\n",
              "\n",
              "    [theme=dark] .colab-df-convert:hover {\n",
              "      background-color: #434B5C;\n",
              "      box-shadow: 0px 1px 3px 1px rgba(0, 0, 0, 0.15);\n",
              "      filter: drop-shadow(0px 1px 2px rgba(0, 0, 0, 0.3));\n",
              "      fill: #FFFFFF;\n",
              "    }\n",
              "  </style>\n",
              "\n",
              "    <script>\n",
              "      const buttonEl =\n",
              "        document.querySelector('#df-1b193966-99dd-41db-8dba-19c0f4727074 button.colab-df-convert');\n",
              "      buttonEl.style.display =\n",
              "        google.colab.kernel.accessAllowed ? 'block' : 'none';\n",
              "\n",
              "      async function convertToInteractive(key) {\n",
              "        const element = document.querySelector('#df-1b193966-99dd-41db-8dba-19c0f4727074');\n",
              "        const dataTable =\n",
              "          await google.colab.kernel.invokeFunction('convertToInteractive',\n",
              "                                                    [key], {});\n",
              "        if (!dataTable) return;\n",
              "\n",
              "        const docLinkHtml = 'Like what you see? Visit the ' +\n",
              "          '<a target=\"_blank\" href=https://colab.research.google.com/notebooks/data_table.ipynb>data table notebook</a>'\n",
              "          + ' to learn more about interactive tables.';\n",
              "        element.innerHTML = '';\n",
              "        dataTable['output_type'] = 'display_data';\n",
              "        await google.colab.output.renderOutput(dataTable, element);\n",
              "        const docLink = document.createElement('div');\n",
              "        docLink.innerHTML = docLinkHtml;\n",
              "        element.appendChild(docLink);\n",
              "      }\n",
              "    </script>\n",
              "  </div>\n",
              "\n",
              "\n",
              "<div id=\"df-90e1169c-8bad-49e4-9d3a-b9b796e823de\">\n",
              "  <button class=\"colab-df-quickchart\" onclick=\"quickchart('df-90e1169c-8bad-49e4-9d3a-b9b796e823de')\"\n",
              "            title=\"Suggest charts\"\n",
              "            style=\"display:none;\">\n",
              "\n",
              "<svg xmlns=\"http://www.w3.org/2000/svg\" height=\"24px\"viewBox=\"0 0 24 24\"\n",
              "     width=\"24px\">\n",
              "    <g>\n",
              "        <path d=\"M19 3H5c-1.1 0-2 .9-2 2v14c0 1.1.9 2 2 2h14c1.1 0 2-.9 2-2V5c0-1.1-.9-2-2-2zM9 17H7v-7h2v7zm4 0h-2V7h2v10zm4 0h-2v-4h2v4z\"/>\n",
              "    </g>\n",
              "</svg>\n",
              "  </button>\n",
              "\n",
              "<style>\n",
              "  .colab-df-quickchart {\n",
              "      --bg-color: #E8F0FE;\n",
              "      --fill-color: #1967D2;\n",
              "      --hover-bg-color: #E2EBFA;\n",
              "      --hover-fill-color: #174EA6;\n",
              "      --disabled-fill-color: #AAA;\n",
              "      --disabled-bg-color: #DDD;\n",
              "  }\n",
              "\n",
              "  [theme=dark] .colab-df-quickchart {\n",
              "      --bg-color: #3B4455;\n",
              "      --fill-color: #D2E3FC;\n",
              "      --hover-bg-color: #434B5C;\n",
              "      --hover-fill-color: #FFFFFF;\n",
              "      --disabled-bg-color: #3B4455;\n",
              "      --disabled-fill-color: #666;\n",
              "  }\n",
              "\n",
              "  .colab-df-quickchart {\n",
              "    background-color: var(--bg-color);\n",
              "    border: none;\n",
              "    border-radius: 50%;\n",
              "    cursor: pointer;\n",
              "    display: none;\n",
              "    fill: var(--fill-color);\n",
              "    height: 32px;\n",
              "    padding: 0;\n",
              "    width: 32px;\n",
              "  }\n",
              "\n",
              "  .colab-df-quickchart:hover {\n",
              "    background-color: var(--hover-bg-color);\n",
              "    box-shadow: 0 1px 2px rgba(60, 64, 67, 0.3), 0 1px 3px 1px rgba(60, 64, 67, 0.15);\n",
              "    fill: var(--button-hover-fill-color);\n",
              "  }\n",
              "\n",
              "  .colab-df-quickchart-complete:disabled,\n",
              "  .colab-df-quickchart-complete:disabled:hover {\n",
              "    background-color: var(--disabled-bg-color);\n",
              "    fill: var(--disabled-fill-color);\n",
              "    box-shadow: none;\n",
              "  }\n",
              "\n",
              "  .colab-df-spinner {\n",
              "    border: 2px solid var(--fill-color);\n",
              "    border-color: transparent;\n",
              "    border-bottom-color: var(--fill-color);\n",
              "    animation:\n",
              "      spin 1s steps(1) infinite;\n",
              "  }\n",
              "\n",
              "  @keyframes spin {\n",
              "    0% {\n",
              "      border-color: transparent;\n",
              "      border-bottom-color: var(--fill-color);\n",
              "      border-left-color: var(--fill-color);\n",
              "    }\n",
              "    20% {\n",
              "      border-color: transparent;\n",
              "      border-left-color: var(--fill-color);\n",
              "      border-top-color: var(--fill-color);\n",
              "    }\n",
              "    30% {\n",
              "      border-color: transparent;\n",
              "      border-left-color: var(--fill-color);\n",
              "      border-top-color: var(--fill-color);\n",
              "      border-right-color: var(--fill-color);\n",
              "    }\n",
              "    40% {\n",
              "      border-color: transparent;\n",
              "      border-right-color: var(--fill-color);\n",
              "      border-top-color: var(--fill-color);\n",
              "    }\n",
              "    60% {\n",
              "      border-color: transparent;\n",
              "      border-right-color: var(--fill-color);\n",
              "    }\n",
              "    80% {\n",
              "      border-color: transparent;\n",
              "      border-right-color: var(--fill-color);\n",
              "      border-bottom-color: var(--fill-color);\n",
              "    }\n",
              "    90% {\n",
              "      border-color: transparent;\n",
              "      border-bottom-color: var(--fill-color);\n",
              "    }\n",
              "  }\n",
              "</style>\n",
              "\n",
              "  <script>\n",
              "    async function quickchart(key) {\n",
              "      const quickchartButtonEl =\n",
              "        document.querySelector('#' + key + ' button');\n",
              "      quickchartButtonEl.disabled = true;  // To prevent multiple clicks.\n",
              "      quickchartButtonEl.classList.add('colab-df-spinner');\n",
              "      try {\n",
              "        const charts = await google.colab.kernel.invokeFunction(\n",
              "            'suggestCharts', [key], {});\n",
              "      } catch (error) {\n",
              "        console.error('Error during call to suggestCharts:', error);\n",
              "      }\n",
              "      quickchartButtonEl.classList.remove('colab-df-spinner');\n",
              "      quickchartButtonEl.classList.add('colab-df-quickchart-complete');\n",
              "    }\n",
              "    (() => {\n",
              "      let quickchartButtonEl =\n",
              "        document.querySelector('#df-90e1169c-8bad-49e4-9d3a-b9b796e823de button');\n",
              "      quickchartButtonEl.style.display =\n",
              "        google.colab.kernel.accessAllowed ? 'block' : 'none';\n",
              "    })();\n",
              "  </script>\n",
              "</div>\n",
              "    </div>\n",
              "  </div>\n"
            ]
          },
          "metadata": {},
          "execution_count": 27
        }
      ],
      "source": [
        "df_acc = pd.DataFrame(models_acc)\n",
        "df_acc.columns = ['Model', 'Accuracy w/o scaling', 'Training time (sec)']\n",
        "df_acc.sort_values(by = 'Accuracy w/o scaling', ascending = False, inplace=True)\n",
        "df_acc.reset_index(drop = True, inplace=True)\n",
        "df_acc"
      ]
    },
    {
      "cell_type": "code",
      "execution_count": 28,
      "id": "revolutionary-sustainability",
      "metadata": {
        "execution": {
          "iopub.execute_input": "2021-08-10T15:55:21.572679Z",
          "iopub.status.busy": "2021-08-10T15:55:21.571821Z",
          "iopub.status.idle": "2021-08-10T15:55:21.762927Z",
          "shell.execute_reply": "2021-08-10T15:55:21.763335Z"
        },
        "papermill": {
          "duration": 0.21894,
          "end_time": "2021-08-10T15:55:21.763504",
          "exception": false,
          "start_time": "2021-08-10T15:55:21.544564",
          "status": "completed"
        },
        "tags": [],
        "colab": {
          "base_uri": "https://localhost:8080/",
          "height": 457
        },
        "id": "revolutionary-sustainability",
        "outputId": "1f544b86-cfa5-4908-f58d-0288963c22c4"
      },
      "outputs": [
        {
          "output_type": "display_data",
          "data": {
            "text/plain": [
              "<Figure size 1500x500 with 1 Axes>"
            ],
            "image/png": "[encoded data removed]"
          },
          "metadata": {}
        }
      ],
      "source": [
        "plt.figure(figsize = (15,5))\n",
        "sns.barplot(x = 'Model', y = 'Accuracy w/o scaling', data = df_acc)\n",
        "plt.title('Accuracy on the test set\\n(the Y-Axis is between 0.8 and 1.0)', fontsize = 15)\n",
        "plt.ylim(0.8,1)\n",
        "plt.show()"
      ]
    },
    {
      "cell_type": "code",
      "execution_count": 29,
      "id": "neutral-affiliation",
      "metadata": {
        "execution": {
          "iopub.execute_input": "2021-08-10T15:55:21.807526Z",
          "iopub.status.busy": "2021-08-10T15:55:21.806662Z",
          "iopub.status.idle": "2021-08-10T15:55:21.991118Z",
          "shell.execute_reply": "2021-08-10T15:55:21.990642Z"
        },
        "papermill": {
          "duration": 0.207625,
          "end_time": "2021-08-10T15:55:21.991257",
          "exception": false,
          "start_time": "2021-08-10T15:55:21.783632",
          "status": "completed"
        },
        "tags": [],
        "colab": {
          "base_uri": "https://localhost:8080/",
          "height": 440
        },
        "id": "neutral-affiliation",
        "outputId": "70c65a29-d823-4010-e0bf-9e6b46a43c3e"
      },
      "outputs": [
        {
          "output_type": "display_data",
          "data": {
            "text/plain": [
              "<Figure size 1500x500 with 1 Axes>"
            ],
            "image/png": "[encoded data removed]"
          },
          "metadata": {}
        }
      ],
      "source": [
        "plt.figure(figsize = (15,5))\n",
        "sns.barplot(x = 'Model', y = 'Training time (sec)', data = df_acc)\n",
        "plt.title('Training time for each model in sec', fontsize = 15)\n",
        "plt.ylim(0,20)\n",
        "plt.show()"
      ]
    },
    {
      "cell_type": "markdown",
      "id": "fresh-fault",
      "metadata": {
        "papermill": {
          "duration": 0.021605,
          "end_time": "2021-08-10T15:55:22.033785",
          "exception": false,
          "start_time": "2021-08-10T15:55:22.012180",
          "status": "completed"
        },
        "tags": [],
        "id": "fresh-fault"
      },
      "source": [
        "XGBoosting gives the best result on the test set. Nevertheless, MultinomialNB is nearly as good, but is very fast (0.2 sec vs 5.1 sec). In the following part, we'll choose the MultinomialNB and try various hyperparameters to optimize it."
      ]
    },
    {
      "cell_type": "markdown",
      "id": "elementary-harrison",
      "metadata": {
        "papermill": {
          "duration": 0.020848,
          "end_time": "2021-08-10T15:55:22.076887",
          "exception": false,
          "start_time": "2021-08-10T15:55:22.056039",
          "status": "completed"
        },
        "tags": [],
        "id": "elementary-harrison"
      },
      "source": [
        "# 3. Hyperparameter selection for MultinomialNB<a class=\"anchor\" id=\"3\"></a>"
      ]
    },
    {
      "cell_type": "code",
      "execution_count": 30,
      "id": "spare-senator",
      "metadata": {
        "execution": {
          "iopub.execute_input": "2021-08-10T15:55:22.128477Z",
          "iopub.status.busy": "2021-08-10T15:55:22.127578Z",
          "iopub.status.idle": "2021-08-10T15:55:23.018635Z",
          "shell.execute_reply": "2021-08-10T15:55:23.019145Z"
        },
        "papermill": {
          "duration": 0.921331,
          "end_time": "2021-08-10T15:55:23.019313",
          "exception": false,
          "start_time": "2021-08-10T15:55:22.097982",
          "status": "completed"
        },
        "tags": [],
        "colab": {
          "base_uri": "https://localhost:8080/",
          "height": 363
        },
        "id": "spare-senator",
        "outputId": "e917bbe0-ed55-4d57-a00a-79d0dab000a2"
      },
      "outputs": [
        {
          "output_type": "execute_result",
          "data": {
            "text/plain": [
              "                               params  mean_test_score\n",
              "0   {'alpha': 0.2, 'fit_prior': True}         0.981384\n",
              "1  {'alpha': 0.2, 'fit_prior': False}         0.981142\n",
              "3    {'alpha': 1, 'fit_prior': False}         0.979690\n",
              "2     {'alpha': 1, 'fit_prior': True}         0.977999\n",
              "5    {'alpha': 2, 'fit_prior': False}         0.971713\n",
              "4     {'alpha': 2, 'fit_prior': True}         0.967602\n",
              "7    {'alpha': 5, 'fit_prior': False}         0.938591\n",
              "6     {'alpha': 5, 'fit_prior': True}         0.930854\n",
              "9   {'alpha': 10, 'fit_prior': False}         0.886127\n",
              "8    {'alpha': 10, 'fit_prior': True}         0.875971"
            ],
            "text/html": [
              "\n",
              "  <div id=\"df-4e318f14-18c8-43f1-b8d9-71ed791560b5\" class=\"colab-df-container\">\n",
              "    <div>\n",
              "<style scoped>\n",
              "    .dataframe tbody tr th:only-of-type {\n",
              "        vertical-align: middle;\n",
              "    }\n",
              "\n",
              "    .dataframe tbody tr th {\n",
              "        vertical-align: top;\n",
              "    }\n",
              "\n",
              "    .dataframe thead th {\n",
              "        text-align: right;\n",
              "    }\n",
              "</style>\n",
              "<table border=\"1\" class=\"dataframe\">\n",
              "  <thead>\n",
              "    <tr style=\"text-align: right;\">\n",
              "      <th></th>\n",
              "      <th>params</th>\n",
              "      <th>mean_test_score</th>\n",
              "    </tr>\n",
              "  </thead>\n",
              "  <tbody>\n",
              "    <tr>\n",
              "      <th>0</th>\n",
              "      <td>{'alpha': 0.2, 'fit_prior': True}</td>\n",
              "      <td>0.981384</td>\n",
              "    </tr>\n",
              "    <tr>\n",
              "      <th>1</th>\n",
              "      <td>{'alpha': 0.2, 'fit_prior': False}</td>\n",
              "      <td>0.981142</td>\n",
              "    </tr>\n",
              "    <tr>\n",
              "      <th>3</th>\n",
              "      <td>{'alpha': 1, 'fit_prior': False}</td>\n",
              "      <td>0.979690</td>\n",
              "    </tr>\n",
              "    <tr>\n",
              "      <th>2</th>\n",
              "      <td>{'alpha': 1, 'fit_prior': True}</td>\n",
              "      <td>0.977999</td>\n",
              "    </tr>\n",
              "    <tr>\n",
              "      <th>5</th>\n",
              "      <td>{'alpha': 2, 'fit_prior': False}</td>\n",
              "      <td>0.971713</td>\n",
              "    </tr>\n",
              "    <tr>\n",
              "      <th>4</th>\n",
              "      <td>{'alpha': 2, 'fit_prior': True}</td>\n",
              "      <td>0.967602</td>\n",
              "    </tr>\n",
              "    <tr>\n",
              "      <th>7</th>\n",
              "      <td>{'alpha': 5, 'fit_prior': False}</td>\n",
              "      <td>0.938591</td>\n",
              "    </tr>\n",
              "    <tr>\n",
              "      <th>6</th>\n",
              "      <td>{'alpha': 5, 'fit_prior': True}</td>\n",
              "      <td>0.930854</td>\n",
              "    </tr>\n",
              "    <tr>\n",
              "      <th>9</th>\n",
              "      <td>{'alpha': 10, 'fit_prior': False}</td>\n",
              "      <td>0.886127</td>\n",
              "    </tr>\n",
              "    <tr>\n",
              "      <th>8</th>\n",
              "      <td>{'alpha': 10, 'fit_prior': True}</td>\n",
              "      <td>0.875971</td>\n",
              "    </tr>\n",
              "  </tbody>\n",
              "</table>\n",
              "</div>\n",
              "    <div class=\"colab-df-buttons\">\n",
              "\n",
              "  <div class=\"colab-df-container\">\n",
              "    <button class=\"colab-df-convert\" onclick=\"convertToInteractive('df-4e318f14-18c8-43f1-b8d9-71ed791560b5')\"\n",
              "            title=\"Convert this dataframe to an interactive table.\"\n",
              "            style=\"display:none;\">\n",
              "\n",
              "  <svg xmlns=\"http://www.w3.org/2000/svg\" height=\"24px\" viewBox=\"0 -960 960 960\">\n",
              "    <path d=\"M120-120v-720h720v720H120Zm60-500h600v-160H180v160Zm220 220h160v-160H400v160Zm0 220h160v-160H400v160ZM180-400h160v-160H180v160Zm440 0h160v-160H620v160ZM180-180h160v-160H180v160Zm440 0h160v-160H620v160Z\"/>\n",
              "  </svg>\n",
              "    </button>\n",
              "\n",
              "  <style>\n",
              "    .colab-df-container {\n",
              "      display:flex;\n",
              "      gap: 12px;\n",
              "    }\n",
              "\n",
              "    .colab-df-convert {\n",
              "      background-color: #E8F0FE;\n",
              "      border: none;\n",
              "      border-radius: 50%;\n",
              "      cursor: pointer;\n",
              "      display: none;\n",
              "      fill: #1967D2;\n",
              "      height: 32px;\n",
              "      padding: 0 0 0 0;\n",
              "      width: 32px;\n",
              "    }\n",
              "\n",
              "    .colab-df-convert:hover {\n",
              "      background-color: #E2EBFA;\n",
              "      box-shadow: 0px 1px 2px rgba(60, 64, 67, 0.3), 0px 1px 3px 1px rgba(60, 64, 67, 0.15);\n",
              "      fill: #174EA6;\n",
              "    }\n",
              "\n",
              "    .colab-df-buttons div {\n",
              "      margin-bottom: 4px;\n",
              "    }\n",
              "\n",
              "    [theme=dark] .colab-df-convert {\n",
              "      background-color: #3B4455;\n",
              "      fill: #D2E3FC;\n",
              "    }\n",
              "\n",
              "    [theme=dark] .colab-df-convert:hover {\n",
              "      background-color: #434B5C;\n",
              "      box-shadow: 0px 1px 3px 1px rgba(0, 0, 0, 0.15);\n",
              "      filter: drop-shadow(0px 1px 2px rgba(0, 0, 0, 0.3));\n",
              "      fill: #FFFFFF;\n",
              "    }\n",
              "  </style>\n",
              "\n",
              "    <script>\n",
              "      const buttonEl =\n",
              "        document.querySelector('#df-4e318f14-18c8-43f1-b8d9-71ed791560b5 button.colab-df-convert');\n",
              "      buttonEl.style.display =\n",
              "        google.colab.kernel.accessAllowed ? 'block' : 'none';\n",
              "\n",
              "      async function convertToInteractive(key) {\n",
              "        const element = document.querySelector('#df-4e318f14-18c8-43f1-b8d9-71ed791560b5');\n",
              "        const dataTable =\n",
              "          await google.colab.kernel.invokeFunction('convertToInteractive',\n",
              "                                                    [key], {});\n",
              "        if (!dataTable) return;\n",
              "\n",
              "        const docLinkHtml = 'Like what you see? Visit the ' +\n",
              "          '<a target=\"_blank\" href=https://colab.research.google.com/notebooks/data_table.ipynb>data table notebook</a>'\n",
              "          + ' to learn more about interactive tables.';\n",
              "        element.innerHTML = '';\n",
              "        dataTable['output_type'] = 'display_data';\n",
              "        await google.colab.output.renderOutput(dataTable, element);\n",
              "        const docLink = document.createElement('div');\n",
              "        docLink.innerHTML = docLinkHtml;\n",
              "        element.appendChild(docLink);\n",
              "      }\n",
              "    </script>\n",
              "  </div>\n",
              "\n",
              "\n",
              "<div id=\"df-13ed958a-62e9-4906-a0c2-32f5bcffa3e1\">\n",
              "  <button class=\"colab-df-quickchart\" onclick=\"quickchart('df-13ed958a-62e9-4906-a0c2-32f5bcffa3e1')\"\n",
              "            title=\"Suggest charts\"\n",
              "            style=\"display:none;\">\n",
              "\n",
              "<svg xmlns=\"http://www.w3.org/2000/svg\" height=\"24px\"viewBox=\"0 0 24 24\"\n",
              "     width=\"24px\">\n",
              "    <g>\n",
              "        <path d=\"M19 3H5c-1.1 0-2 .9-2 2v14c0 1.1.9 2 2 2h14c1.1 0 2-.9 2-2V5c0-1.1-.9-2-2-2zM9 17H7v-7h2v7zm4 0h-2V7h2v10zm4 0h-2v-4h2v4z\"/>\n",
              "    </g>\n",
              "</svg>\n",
              "  </button>\n",
              "\n",
              "<style>\n",
              "  .colab-df-quickchart {\n",
              "      --bg-color: #E8F0FE;\n",
              "      --fill-color: #1967D2;\n",
              "      --hover-bg-color: #E2EBFA;\n",
              "      --hover-fill-color: #174EA6;\n",
              "      --disabled-fill-color: #AAA;\n",
              "      --disabled-bg-color: #DDD;\n",
              "  }\n",
              "\n",
              "  [theme=dark] .colab-df-quickchart {\n",
              "      --bg-color: #3B4455;\n",
              "      --fill-color: #D2E3FC;\n",
              "      --hover-bg-color: #434B5C;\n",
              "      --hover-fill-color: #FFFFFF;\n",
              "      --disabled-bg-color: #3B4455;\n",
              "      --disabled-fill-color: #666;\n",
              "  }\n",
              "\n",
              "  .colab-df-quickchart {\n",
              "    background-color: var(--bg-color);\n",
              "    border: none;\n",
              "    border-radius: 50%;\n",
              "    cursor: pointer;\n",
              "    display: none;\n",
              "    fill: var(--fill-color);\n",
              "    height: 32px;\n",
              "    padding: 0;\n",
              "    width: 32px;\n",
              "  }\n",
              "\n",
              "  .colab-df-quickchart:hover {\n",
              "    background-color: var(--hover-bg-color);\n",
              "    box-shadow: 0 1px 2px rgba(60, 64, 67, 0.3), 0 1px 3px 1px rgba(60, 64, 67, 0.15);\n",
              "    fill: var(--button-hover-fill-color);\n",
              "  }\n",
              "\n",
              "  .colab-df-quickchart-complete:disabled,\n",
              "  .colab-df-quickchart-complete:disabled:hover {\n",
              "    background-color: var(--disabled-bg-color);\n",
              "    fill: var(--disabled-fill-color);\n",
              "    box-shadow: none;\n",
              "  }\n",
              "\n",
              "  .colab-df-spinner {\n",
              "    border: 2px solid var(--fill-color);\n",
              "    border-color: transparent;\n",
              "    border-bottom-color: var(--fill-color);\n",
              "    animation:\n",
              "      spin 1s steps(1) infinite;\n",
              "  }\n",
              "\n",
              "  @keyframes spin {\n",
              "    0% {\n",
              "      border-color: transparent;\n",
              "      border-bottom-color: var(--fill-color);\n",
              "      border-left-color: var(--fill-color);\n",
              "    }\n",
              "    20% {\n",
              "      border-color: transparent;\n",
              "      border-left-color: var(--fill-color);\n",
              "      border-top-color: var(--fill-color);\n",
              "    }\n",
              "    30% {\n",
              "      border-color: transparent;\n",
              "      border-left-color: var(--fill-color);\n",
              "      border-top-color: var(--fill-color);\n",
              "      border-right-color: var(--fill-color);\n",
              "    }\n",
              "    40% {\n",
              "      border-color: transparent;\n",
              "      border-right-color: var(--fill-color);\n",
              "      border-top-color: var(--fill-color);\n",
              "    }\n",
              "    60% {\n",
              "      border-color: transparent;\n",
              "      border-right-color: var(--fill-color);\n",
              "    }\n",
              "    80% {\n",
              "      border-color: transparent;\n",
              "      border-right-color: var(--fill-color);\n",
              "      border-bottom-color: var(--fill-color);\n",
              "    }\n",
              "    90% {\n",
              "      border-color: transparent;\n",
              "      border-bottom-color: var(--fill-color);\n",
              "    }\n",
              "  }\n",
              "</style>\n",
              "\n",
              "  <script>\n",
              "    async function quickchart(key) {\n",
              "      const quickchartButtonEl =\n",
              "        document.querySelector('#' + key + ' button');\n",
              "      quickchartButtonEl.disabled = true;  // To prevent multiple clicks.\n",
              "      quickchartButtonEl.classList.add('colab-df-spinner');\n",
              "      try {\n",
              "        const charts = await google.colab.kernel.invokeFunction(\n",
              "            'suggestCharts', [key], {});\n",
              "      } catch (error) {\n",
              "        console.error('Error during call to suggestCharts:', error);\n",
              "      }\n",
              "      quickchartButtonEl.classList.remove('colab-df-spinner');\n",
              "      quickchartButtonEl.classList.add('colab-df-quickchart-complete');\n",
              "    }\n",
              "    (() => {\n",
              "      let quickchartButtonEl =\n",
              "        document.querySelector('#df-13ed958a-62e9-4906-a0c2-32f5bcffa3e1 button');\n",
              "      quickchartButtonEl.style.display =\n",
              "        google.colab.kernel.accessAllowed ? 'block' : 'none';\n",
              "    })();\n",
              "  </script>\n",
              "</div>\n",
              "    </div>\n",
              "  </div>\n"
            ]
          },
          "metadata": {},
          "execution_count": 30
        }
      ],
      "source": [
        "# Find the best hyperparameter with GridSearchCV\n",
        "# Exhaustive search over specified parameter values for an estimator.\n",
        "from sklearn.naive_bayes import MultinomialNB\n",
        "from sklearn.model_selection import GridSearchCV\n",
        "parameters = {\"alpha\": [0.2,1,2,5,10], \"fit_prior\": [True, False]}\n",
        "\n",
        "grid = GridSearchCV(MultinomialNB(), param_grid=parameters)\n",
        "grid.fit(X_train,y_train)\n",
        "\n",
        "# Create a DataFrame with the best Hyperparameters\n",
        "pd.DataFrame(grid.cv_results_)[['params','mean_test_score']]\\\n",
        "                               .sort_values(by=\"mean_test_score\", ascending=False)"
      ]
    },
    {
      "cell_type": "code",
      "execution_count": 31,
      "id": "controlled-trance",
      "metadata": {
        "execution": {
          "iopub.execute_input": "2021-08-10T15:55:23.067129Z",
          "iopub.status.busy": "2021-08-10T15:55:23.066203Z",
          "iopub.status.idle": "2021-08-10T15:55:23.072600Z",
          "shell.execute_reply": "2021-08-10T15:55:23.072066Z"
        },
        "papermill": {
          "duration": 0.03205,
          "end_time": "2021-08-10T15:55:23.072734",
          "exception": false,
          "start_time": "2021-08-10T15:55:23.040684",
          "status": "completed"
        },
        "tags": [],
        "colab": {
          "base_uri": "https://localhost:8080/"
        },
        "id": "controlled-trance",
        "outputId": "107df0ea-64ca-4dbd-ebe8-ea126b7c731f"
      },
      "outputs": [
        {
          "output_type": "execute_result",
          "data": {
            "text/plain": [
              "{'alpha': 0.2, 'fit_prior': True}"
            ]
          },
          "metadata": {},
          "execution_count": 31
        }
      ],
      "source": [
        "# Display the best hyperparameters\n",
        "grid.best_params_"
      ]
    },
    {
      "cell_type": "markdown",
      "id": "unnecessary-accessory",
      "metadata": {
        "papermill": {
          "duration": 0.021505,
          "end_time": "2021-08-10T15:55:23.116267",
          "exception": false,
          "start_time": "2021-08-10T15:55:23.094762",
          "status": "completed"
        },
        "tags": [],
        "id": "unnecessary-accessory"
      },
      "source": [
        "# 4. The MultinomialNB Model<a class=\"anchor\" id=\"4\"></a>"
      ]
    },
    {
      "cell_type": "code",
      "execution_count": 32,
      "id": "convenient-orange",
      "metadata": {
        "execution": {
          "iopub.execute_input": "2021-08-10T15:55:23.175715Z",
          "iopub.status.busy": "2021-08-10T15:55:23.174418Z",
          "iopub.status.idle": "2021-08-10T15:55:23.190250Z",
          "shell.execute_reply": "2021-08-10T15:55:23.189647Z"
        },
        "papermill": {
          "duration": 0.05178,
          "end_time": "2021-08-10T15:55:23.190381",
          "exception": false,
          "start_time": "2021-08-10T15:55:23.138601",
          "status": "completed"
        },
        "tags": [],
        "colab": {
          "base_uri": "https://localhost:8080/",
          "height": 64
        },
        "id": "convenient-orange",
        "outputId": "9a7ab39a-f000-4fbc-ab65-f2c404f6b5a7"
      },
      "outputs": [
        {
          "output_type": "display_data",
          "data": {
            "text/plain": [
              "<IPython.core.display.Markdown object>"
            ],
            "text/markdown": "## Accuracy: 97.5%\n"
          },
          "metadata": {}
        }
      ],
      "source": [
        "# Create the model with the best hyperparameters\n",
        "from sklearn.naive_bayes import MultinomialNB\n",
        "alpha, fit_prior = grid.best_params_['alpha'], grid.best_params_['fit_prior']\n",
        "model = MultinomialNB(alpha = alpha)\n",
        "\n",
        "model.fit(X_train,y_train)\n",
        "y_pred = model.predict(X_test)\n",
        "\n",
        "from sklearn.metrics import classification_report, accuracy_score\n",
        "printmd(f'## Accuracy: {round(accuracy_score(y_test,y_pred),3)*100}%\\n')"
      ]
    },
    {
      "cell_type": "code",
      "execution_count": 33,
      "id": "becoming-engineering",
      "metadata": {
        "execution": {
          "iopub.execute_input": "2021-08-10T15:55:23.241882Z",
          "iopub.status.busy": "2021-08-10T15:55:23.241333Z",
          "iopub.status.idle": "2021-08-10T15:55:23.269166Z",
          "shell.execute_reply": "2021-08-10T15:55:23.268670Z"
        },
        "papermill": {
          "duration": 0.056652,
          "end_time": "2021-08-10T15:55:23.269318",
          "exception": false,
          "start_time": "2021-08-10T15:55:23.212666",
          "status": "completed"
        },
        "tags": [],
        "colab": {
          "base_uri": "https://localhost:8080/"
        },
        "id": "becoming-engineering",
        "outputId": "c50bb3e0-a708-4f0b-c907-c301bb9ce16e"
      },
      "outputs": [
        {
          "output_type": "stream",
          "name": "stdout",
          "text": [
            "              precision    recall  f1-score   support\n",
            "\n",
            "         ham       0.98      0.98      0.98       732\n",
            "        spam       0.96      0.96      0.96       303\n",
            "\n",
            "    accuracy                           0.97      1035\n",
            "   macro avg       0.97      0.97      0.97      1035\n",
            "weighted avg       0.97      0.97      0.97      1035\n",
            "\n"
          ]
        }
      ],
      "source": [
        "print(classification_report(y_test,y_pred))"
      ]
    },
    {
      "cell_type": "markdown",
      "id": "stretch-bundle",
      "metadata": {
        "papermill": {
          "duration": 0.022285,
          "end_time": "2021-08-10T15:55:23.314156",
          "exception": false,
          "start_time": "2021-08-10T15:55:23.291871",
          "status": "completed"
        },
        "tags": [],
        "id": "stretch-bundle"
      },
      "source": [
        "# 5. Example of predictions<a class=\"anchor\" id=\"5\"></a>"
      ]
    },
    {
      "cell_type": "code",
      "execution_count": 34,
      "id": "united-saying",
      "metadata": {
        "execution": {
          "iopub.execute_input": "2021-08-10T15:55:23.366758Z",
          "iopub.status.busy": "2021-08-10T15:55:23.366171Z",
          "iopub.status.idle": "2021-08-10T15:55:23.388464Z",
          "shell.execute_reply": "2021-08-10T15:55:23.388973Z"
        },
        "papermill": {
          "duration": 0.052579,
          "end_time": "2021-08-10T15:55:23.389148",
          "exception": false,
          "start_time": "2021-08-10T15:55:23.336569",
          "status": "completed"
        },
        "tags": [],
        "colab": {
          "base_uri": "https://localhost:8080/",
          "height": 370
        },
        "id": "united-saying",
        "outputId": "f5641867-d8bf-406b-b2e9-c5efbab6d6c7"
      },
      "outputs": [
        {
          "output_type": "display_data",
          "data": {
            "text/plain": [
              "<IPython.core.display.Markdown object>"
            ],
            "text/markdown": "**Real: spam, Predicted: spam**"
          },
          "metadata": {}
        },
        {
          "output_type": "display_data",
          "data": {
            "text/plain": [
              "<IPython.core.display.Markdown object>"
            ],
            "text/markdown": "**E-Mail:** subject photoshop windows office cheap main trending abasements darer prudently fortuitous undergone lighthearted charm orinoco taster railroad affluent pornographic cuvier irvin parkhouse blameworthy chlorophyll robed diagrammatic fogarty clears bayda inconveniencing managing represented smartness hashish academies shareholders unload badness danielson pure caffein spaniard chargeable levin"
          },
          "metadata": {}
        },
        {
          "output_type": "display_data",
          "data": {
            "text/plain": [
              "<IPython.core.display.Markdown object>"
            ],
            "text/markdown": "_______________________________________________________________"
          },
          "metadata": {}
        },
        {
          "output_type": "display_data",
          "data": {
            "text/plain": [
              "<IPython.core.display.Markdown object>"
            ],
            "text/markdown": "**Real: spam, Predicted: spam**"
          },
          "metadata": {}
        },
        {
          "output_type": "display_data",
          "data": {
            "text/plain": [
              "<IPython.core.display.Markdown object>"
            ],
            "text/markdown": "**E-Mail:** subject looking for medication we re the best source it is difficult to make our material condition better by the best law but it is easy enough to ruin it by bad laws excuse me you just found the best and simpliest site for medication on the net no perscription easy delivery private secure and easy better see rightly on a pound a week than squint on a million we ve got anything that you will ever want erection treatment pills anti depressant pills weight loss and more http splicings bombahakcx com knowledge and human power are synonymous only high quality stuff for low rates moneyback guarantee there is no god nature sufficeth unto herself in no wise hath she need of an author"
          },
          "metadata": {}
        },
        {
          "output_type": "display_data",
          "data": {
            "text/plain": [
              "<IPython.core.display.Markdown object>"
            ],
            "text/markdown": "_______________________________________________________________"
          },
          "metadata": {}
        },
        {
          "output_type": "display_data",
          "data": {
            "text/plain": [
              "<IPython.core.display.Markdown object>"
            ],
            "text/markdown": "**Real: ham, Predicted: ham**"
          },
          "metadata": {}
        },
        {
          "output_type": "display_data",
          "data": {
            "text/plain": [
              "<IPython.core.display.Markdown object>"
            ],
            "text/markdown": "**E-Mail:** subject enron methanol meter this is a follow up to the note i gave you on monday preliminary flow data provided by daren please override pop s daily volume presently zero to reflect daily activity you can obtain from gas control this change is needed asap for economics purposes"
          },
          "metadata": {}
        },
        {
          "output_type": "display_data",
          "data": {
            "text/plain": [
              "<IPython.core.display.Markdown object>"
            ],
            "text/markdown": "_______________________________________________________________"
          },
          "metadata": {}
        },
        {
          "output_type": "display_data",
          "data": {
            "text/plain": [
              "<IPython.core.display.Markdown object>"
            ],
            "text/markdown": "**Real: ham, Predicted: ham**"
          },
          "metadata": {}
        },
        {
          "output_type": "display_data",
          "data": {
            "text/plain": [
              "<IPython.core.display.Markdown object>"
            ],
            "text/markdown": "**E-Mail:** subject hpl nom for january see attached file hplnol xls hplnol xls"
          },
          "metadata": {}
        },
        {
          "output_type": "display_data",
          "data": {
            "text/plain": [
              "<IPython.core.display.Markdown object>"
            ],
            "text/markdown": "_______________________________________________________________"
          },
          "metadata": {}
        }
      ],
      "source": [
        "def display_result(df, number=2):\n",
        "    for i in range(number):\n",
        "        msg = df['text_clean'].iloc[i]\n",
        "        label = df[\"label\"].iloc[i]\n",
        "        msg_vec = cv.transform([msg])\n",
        "        pred_label = model.predict(msg_vec)\n",
        "        printmd(f\"**Real: {label}, Predicted: {pred_label[0]}**\")\n",
        "        printmd(f\"**E-Mail:** {msg}\")\n",
        "        printmd(\"_______________________________________________________________\")\n",
        "\n",
        "df_spam = df[df['label'] == 'spam']\n",
        "df_ham = df[df['label'] == 'ham']\n",
        "display_result(df_spam)\n",
        "display_result(df_ham)"
      ]
    },
    {
      "cell_type": "markdown",
      "id": "desirable-setup",
      "metadata": {
        "papermill": {
          "duration": 0.026956,
          "end_time": "2021-08-10T15:55:23.446563",
          "exception": false,
          "start_time": "2021-08-10T15:55:23.419607",
          "status": "completed"
        },
        "tags": [],
        "id": "desirable-setup"
      },
      "source": [
        "# MultinomialNB: Lightweight, fast and powerfull!\n",
        "\n",
        "![simple-powerfull](https://i.imgur.com/bLOdU7Q.png)"
      ]
    },
    {
      "cell_type": "code",
      "source": [],
      "metadata": {
        "id": "oJ1jy3R8JrtO"
      },
      "id": "oJ1jy3R8JrtO",
      "execution_count": 34,
      "outputs": []
    }
  ],
  "metadata": {
    "kernelspec": {
      "display_name": "Python 3",
      "language": "python",
      "name": "python3"
    },
    "language_info": {
      "codemirror_mode": {
        "name": "ipython",
        "version": 3
      },
      "file_extension": ".py",
      "mimetype": "text/x-python",
      "name": "python",
      "nbconvert_exporter": "python",
      "pygments_lexer": "ipython3",
      "version": "3.7.9"
    },
    "papermill": {
      "default_parameters": {},
      "duration": 48.968382,
      "end_time": "2021-08-10T15:55:24.183040",
      "environment_variables": {},
      "exception": null,
      "input_path": "__notebook__.ipynb",
      "output_path": "__notebook__.ipynb",
      "parameters": {},
      "start_time": "2021-08-10T15:54:35.214658",
      "version": "2.3.2"
    },
    "colab": {
      "provenance": [],
      "include_colab_link": true
    }
  },
  "nbformat": 4,
  "nbformat_minor": 5
}